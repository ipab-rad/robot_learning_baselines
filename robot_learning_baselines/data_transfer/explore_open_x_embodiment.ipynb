{
 "cells": [
  {
   "cell_type": "code",
   "execution_count": 5,
   "id": "10ecd0c7-d8c1-4199-960b-cdf8d08d4a9d",
   "metadata": {},
   "outputs": [],
   "source": [
    "import os\n",
    "import tqdm\n",
    "import subprocess\n",
    "import argparse\n",
    "\n",
    "import tensorflow as tf\n",
    "import tensorflow_datasets as tfds\n",
    "\n",
    "import pandas as pd"
   ]
  },
  {
   "cell_type": "markdown",
   "id": "8e55a02b-9e35-479b-9ecd-06ab3fc13583",
   "metadata": {},
   "source": [
    "# Filter for Relevant Datasets"
   ]
  },
  {
   "cell_type": "code",
   "execution_count": 45,
   "id": "4e0027a6-8f6a-4e19-866a-13bc4a6a8be0",
   "metadata": {},
   "outputs": [
    {
     "name": "stdout",
     "output_type": "stream",
     "text": [
      "Total TB: 1.36702\n",
      "Datasets: ['taco_play', 'viola', 'stanford_hydra_dataset_converted_externally_to_rlds', 'maniskill_dataset_converted_externally_to_rlds', 'furniture_bench_dataset_converted_externally_to_rlds', 'cmu_franka_exploration_dataset_converted_externally_to_rlds', 'berkeley_rpt_converted_externally_to_rlds', 'kaist_nonprehensile_converted_externally_to_rlds', 'stanford_robocook_converted_externally_to_rlds', 'iamlab_cmu_pickup_insert_converted_externally_to_rlds', nan, 'utaustin_mutex', 'cmu_playing_with_food', 'cmu_play_fusion']\n"
     ]
    }
   ],
   "source": [
    "df = pd.read_excel(\n",
    "    \"./artifacts/open-x-embodiment.xlsx\",\n",
    "    skiprows=14\n",
    ")\n",
    "\n",
    "# filter for franka + language annotations\n",
    "df = df[\n",
    "    (df[\"Robot\"]==\"Franka\") & \n",
    "    (df[\"Language Annotations\"].notna()) &\n",
    "    (df[\"# RGB Cams\"] > 0)\n",
    "    ]\n",
    "\n",
    "\n",
    "# print relevant data\n",
    "tb = df[\"File Size (GB)\"].sum()*1e-3\n",
    "dataset_names = df[\"Registered Dataset Name\"].to_list()\n",
    "print(f\"Total TB: {tb}\")\n",
    "print(f\"Datasets: {dataset_names}\")"
   ]
  },
  {
   "cell_type": "code",
   "execution_count": null,
   "id": "919decb9-e03f-4a58-b47c-79d3cd6107a4",
   "metadata": {},
   "outputs": [],
   "source": []
  }
 ],
 "metadata": {
  "kernelspec": {
   "display_name": "Python 3 (ipykernel)",
   "language": "python",
   "name": "python3"
  },
  "language_info": {
   "codemirror_mode": {
    "name": "ipython",
    "version": 3
   },
   "file_extension": ".py",
   "mimetype": "text/x-python",
   "name": "python",
   "nbconvert_exporter": "python",
   "pygments_lexer": "ipython3",
   "version": "3.10.6"
  }
 },
 "nbformat": 4,
 "nbformat_minor": 5
}
